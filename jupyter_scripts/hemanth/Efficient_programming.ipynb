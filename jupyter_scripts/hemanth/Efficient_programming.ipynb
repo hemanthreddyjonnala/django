{
 "cells": [
  {
   "cell_type": "code",
   "execution_count": 1,
   "metadata": {},
   "outputs": [
    {
     "data": {
      "text/plain": [
       "3.1414926535900345"
      ]
     },
     "execution_count": 1,
     "metadata": {},
     "output_type": "execute_result"
    }
   ],
   "source": [
    "#comprehension\n",
    "4*sum(pow(-1,k)/(2*k+1) for k in range(10000))"
   ]
  },
  {
   "cell_type": "code",
   "execution_count": null,
   "metadata": {},
   "outputs": [],
   "source": [
    "#effieient loops\n",
    "# any object which has method __next__ and __iter__ is called iterator\n",
    "#enumerate , sorted, reversed, zip, map, filter\n",
    "# concatenate: iterate.chain\n",
    "# duplicates : itertools.tee\n",
    "#running sum: itertools.accumulate\n",
    "# element by element : itertools.product\n",
    "# permutations and combinations"
   ]
  }
 ],
 "metadata": {
  "kernelspec": {
   "display_name": "Python 3",
   "language": "python",
   "name": "python3"
  },
  "language_info": {
   "codemirror_mode": {
    "name": "ipython",
    "version": 3
   },
   "file_extension": ".py",
   "mimetype": "text/x-python",
   "name": "python",
   "nbconvert_exporter": "python",
   "pygments_lexer": "ipython3",
   "version": "3.6.0"
  }
 },
 "nbformat": 4,
 "nbformat_minor": 2
}
